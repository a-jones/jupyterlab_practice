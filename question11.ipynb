{
 "cells": [
  {
   "cell_type": "markdown",
   "id": "84f15e68-b190-4cc7-b374-580da1b0007f",
   "metadata": {},
   "source": [
    "# Andrea Jones  \n",
    "Notebook for assignment 7"
   ]
  },
  {
   "cell_type": "code",
   "execution_count": 3,
   "id": "e9142a55-af51-43ad-a8df-d2c99d79584c",
   "metadata": {
    "tags": []
   },
   "outputs": [
    {
     "name": "stdout",
     "output_type": "stream",
     "text": [
      "Average of the list = 5.0\n"
     ]
    }
   ],
   "source": [
    "# Python program to get average of a list \n",
    "def Average(lst): \n",
    "    return sum(lst) / len(lst) \n",
    " \n",
    "# Driver Code \n",
    "lst = [2, 4, 6, 8] \n",
    "average = Average(lst) \n",
    " \n",
    "# Printing average of the list \n",
    "print(\"Average of the list =\", round(average, 2)) "
   ]
  },
  {
   "cell_type": "markdown",
   "id": "d4bc0f45-ed83-4baf-9652-2e211c7d0a60",
   "metadata": {},
   "source": [
    "The above code sell defines a function named Average which calculates the mean value from a list of numbers. To use the function you need to create a list of numbers and name the this list of numbers 'lst'. The function named Average than takes the sum of the numbers in 'lst' and then divides that by the number of numbers in 'lst'. The results of this calculation is saved as a variable named 'average'. The code then prints the value of the variable named 'average' rounded to two decimal places. Below you will find two equations for calculating the mean of a list of numbers.\n",
    "\n",
    "$$\\bar{x} = \\frac{1}{n} \\sum_{i=1}^{n}x_{i}$$\n",
    "\n",
    "$$or$$\n",
    "\n",
    "$$\\bar{x} = \\frac{x_{1} + x_{2} + ... + x_{n}}{n}$$ \n",
    "\n",
    "\n"
   ]
  },
  {
   "cell_type": "code",
   "execution_count": null,
   "id": "dc44941a-fde8-42f7-b376-033f95fe18d1",
   "metadata": {},
   "outputs": [],
   "source": []
  }
 ],
 "metadata": {
  "kernelspec": {
   "display_name": "Python 3 (ipykernel)",
   "language": "python",
   "name": "python3"
  },
  "language_info": {
   "codemirror_mode": {
    "name": "ipython",
    "version": 3
   },
   "file_extension": ".py",
   "mimetype": "text/x-python",
   "name": "python",
   "nbconvert_exporter": "python",
   "pygments_lexer": "ipython3",
   "version": "3.11.5"
  }
 },
 "nbformat": 4,
 "nbformat_minor": 5
}
